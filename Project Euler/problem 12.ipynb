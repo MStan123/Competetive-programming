{
 "cells": [
  {
   "cell_type": "code",
   "execution_count": null,
   "id": "349afe7a-9f55-40a0-9706-0705fffed674",
   "metadata": {},
   "outputs": [],
   "source": [
    "def prime(n):\n",
    "    if n <= 1:\n",
    "        return False\n",
    "    for i in range(2, int(n**0.5)+1):\n",
    "        if n % i == 0:\n",
    "            return False\n",
    "    return True\n",
    "\n",
    "l = 30\n",
    "s = 0\n",
    "for i in range(1, l + 1):\n",
    "    if l/i == 0:\n",
    "        s+=1\n",
    "if s <=500:\n",
    "    l++\n",
    "else: \n",
    "    print(l)\n",
    "elif prime(l) == True:\n",
    "    l++"
   ]
  }
 ],
 "metadata": {
  "kernelspec": {
   "display_name": "Python 3 (ipykernel)",
   "language": "python",
   "name": "python3"
  },
  "language_info": {
   "codemirror_mode": {
    "name": "ipython",
    "version": 3
   },
   "file_extension": ".py",
   "mimetype": "text/x-python",
   "name": "python",
   "nbconvert_exporter": "python",
   "pygments_lexer": "ipython3",
   "version": "3.10.9"
  }
 },
 "nbformat": 4,
 "nbformat_minor": 5
}
