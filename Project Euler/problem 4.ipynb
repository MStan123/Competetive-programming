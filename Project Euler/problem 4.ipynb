{
 "cells": [
  {
   "cell_type": "code",
   "execution_count": 6,
   "id": "55d81f8d-800e-4a7d-a4dc-e9d4c18a878e",
   "metadata": {},
   "outputs": [
    {
     "name": "stdout",
     "output_type": "stream",
     "text": [
      "906609\n"
     ]
    }
   ],
   "source": [
    "def isPalindrome(n):\n",
    "    a = str(n)\n",
    "    if a != a[::-1]:\n",
    "        return False\n",
    "    return True\n",
    "\n",
    "greatest = 0\n",
    "for i in range(100,1000):\n",
    "    for j in range(100,1000):\n",
    "        if isPalindrome(i*j) == True and i*j > greatest:\n",
    "            greatest = i*j\n",
    "print(greatest)"
   ]
  },
  {
   "cell_type": "code",
   "execution_count": null,
   "id": "ea05b6e3-45a2-4afa-ad30-f17deb526b89",
   "metadata": {},
   "outputs": [],
   "source": []
  }
 ],
 "metadata": {
  "kernelspec": {
   "display_name": "Python 3 (ipykernel)",
   "language": "python",
   "name": "python3"
  },
  "language_info": {
   "codemirror_mode": {
    "name": "ipython",
    "version": 3
   },
   "file_extension": ".py",
   "mimetype": "text/x-python",
   "name": "python",
   "nbconvert_exporter": "python",
   "pygments_lexer": "ipython3",
   "version": "3.10.9"
  }
 },
 "nbformat": 4,
 "nbformat_minor": 5
}
