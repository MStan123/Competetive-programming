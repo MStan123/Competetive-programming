{
 "cells": [
  {
   "cell_type": "code",
   "execution_count": 5,
   "id": "519dc0d1-ce26-4a99-bf7d-72cca966d708",
   "metadata": {},
   "outputs": [
    {
     "name": "stdout",
     "output_type": "stream",
     "text": [
      "25164150\n"
     ]
    }
   ],
   "source": [
    "def sum_of_squares(n):\n",
    "    return sum([i**2 for i in range(1, n+1)])\n",
    "def square_of_sum(n):\n",
    "    return sum(range(1,n+1))**2\n",
    "\n",
    "print(square_of_sum(100) - sum_of_squares(100))"
   ]
  },
  {
   "cell_type": "code",
   "execution_count": null,
   "id": "56dbb075-f81e-4bfe-a030-ded9398a5244",
   "metadata": {},
   "outputs": [],
   "source": []
  }
 ],
 "metadata": {
  "kernelspec": {
   "display_name": "Python 3 (ipykernel)",
   "language": "python",
   "name": "python3"
  },
  "language_info": {
   "codemirror_mode": {
    "name": "ipython",
    "version": 3
   },
   "file_extension": ".py",
   "mimetype": "text/x-python",
   "name": "python",
   "nbconvert_exporter": "python",
   "pygments_lexer": "ipython3",
   "version": "3.10.9"
  }
 },
 "nbformat": 4,
 "nbformat_minor": 5
}
