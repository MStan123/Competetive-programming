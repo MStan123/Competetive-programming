{
 "cells": [
  {
   "cell_type": "code",
   "execution_count": 2,
   "id": "aa7b8cd8-5d28-48d4-ab17-a245913ccee7",
   "metadata": {},
   "outputs": [
    {
     "data": {
      "text/plain": [
       "31875000"
      ]
     },
     "execution_count": 2,
     "metadata": {},
     "output_type": "execute_result"
    }
   ],
   "source": [
    "def Pifagor():\n",
    "    for a in range(100, 1000):\n",
    "        for b in range(100, 1000):\n",
    "            c = 1000 - a - b\n",
    "            if a**2 + b**2 == c**2:\n",
    "                return a*b*c\n",
    "\n",
    "Pifagor()"
   ]
  },
  {
   "cell_type": "code",
   "execution_count": null,
   "id": "5f12682e-0ad4-4d1f-8ef5-3096bd7fed4c",
   "metadata": {},
   "outputs": [],
   "source": []
  }
 ],
 "metadata": {
  "kernelspec": {
   "display_name": "Python 3 (ipykernel)",
   "language": "python",
   "name": "python3"
  },
  "language_info": {
   "codemirror_mode": {
    "name": "ipython",
    "version": 3
   },
   "file_extension": ".py",
   "mimetype": "text/x-python",
   "name": "python",
   "nbconvert_exporter": "python",
   "pygments_lexer": "ipython3",
   "version": "3.10.9"
  }
 },
 "nbformat": 4,
 "nbformat_minor": 5
}
